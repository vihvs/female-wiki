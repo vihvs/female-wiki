{
 "cells": [
  {
   "cell_type": "markdown",
   "metadata": {},
   "source": [
    "usar um unico for\n",
    "\n",
    "trocar text por summary\n",
    "\n",
    "listas todas juntas fora do for\n",
    "\n",
    "artigos sem imagem causam problemas"
   ]
  },
  {
   "cell_type": "code",
   "execution_count": 3,
   "metadata": {},
   "outputs": [],
   "source": [
    "from bs4 import BeautifulSoup\n",
    "import requests\n",
    "import pandas as pd\n",
    "import wikipedia\n",
    "from textblob import TextBlob, Word, Blobber\n",
    "from textblob.taggers import NLTKTagger"
   ]
  },
  {
   "cell_type": "markdown",
   "metadata": {},
   "source": [
    "Wikipedia documentation: https://wikipedia.readthedocs.io/en/latest/quickstart.html\n",
    "\n",
    "TextBlobo documentation: https://textblob.readthedocs.io/en/dev/\n",
    "\n",
    "The function receives the url an get the information and transform it in a dataframe with name link of the article as collumns\n",
    "\n",
    "The first lines are to transform the information in two different classes in the page in a unique list\n",
    "The last lines are to separate the information (name and link of article) in two lists, make a dictionary and transform in a pandas dataframe"
   ]
  },
  {
   "cell_type": "code",
   "execution_count": 4,
   "metadata": {},
   "outputs": [],
   "source": [
    "def page_scrapper(url):\n",
    "    \"\"\"Receive the wikipedia project url and returns a dataframe with name, link, summary, photo link and\n",
    "    tags from the summary's text.\"\"\"  \n",
    "    response = requests.get(url)\n",
    "    html_soup = BeautifulSoup(response.text, 'html.parser')\n",
    "    \"\"\"The table has two classes, so the list need to be sum.\"\"\"\n",
    "    name_containers_even = html_soup.find_all('tr', class_ = 'list-even')\n",
    "    name_containers_odd = html_soup.find_all('tr', class_ = 'list-odd')\n",
    "    name_containers = name_containers_even + name_containers_odd\n",
    "    \n",
    "    \"\"\"Grab name and link from the page's table.\"\"\"\n",
    "    name_list = []\n",
    "    link_list = []\n",
    "\n",
    "    for item in name_containers:\n",
    "        name = item.a.text\n",
    "        name_list.append(name)\n",
    "    \n",
    "        link = item.a['href']\n",
    "        link_list.append(link)\n",
    "        \n",
    "        \"\"\"Grab the summary of the wikipedia's article from the name.\"\"\"\n",
    "        summary_list=[]\n",
    "    \n",
    "        for name in name_list:\n",
    "            text = wikipedia.summary(name)\n",
    "            summary_list.append(text)\n",
    "            \n",
    "        \"\"\"Grab the photo link of the wikipedia's article from the name.\"\"\"\n",
    "        photo_list=[]\n",
    "    \n",
    "        for name in name_list:\n",
    "            \n",
    "            photo = wikipedia.page(name).images[0]\n",
    "            photo_list.append(photo)\n",
    "            \n",
    "            \"\"\"Grab the tags of the wikipedia's article from the summary.\"\"\"\n",
    "            tags_list=[]\n",
    "            \n",
    "            for summary in summary_list:\n",
    "                tags = TextBlob(summary).noun_phrases\n",
    "                tags_list.append(tags)\n",
    "            \n",
    "                \n",
    "    \"\"\"Grab the lists and tranform in a dataframe.\"\"\"\n",
    "    dataframe = pd.DataFrame({'name:': name_list,\n",
    "                  'link:': link_list, 'summary': summary_list, 'photo': photo_list, 'tags': tags_list})\n",
    "\n",
    "    return dataframe"
   ]
  },
  {
   "cell_type": "code",
   "execution_count": 5,
   "metadata": {},
   "outputs": [
    {
     "name": "stdout",
     "output_type": "stream",
     "text": [
      "bla\n"
     ]
    }
   ],
   "source": [
    "test = [6]\n",
    "if test:\n",
    "    print('bla')"
   ]
  },
  {
   "cell_type": "markdown",
   "metadata": {},
   "source": [
    "##### Create the URL"
   ]
  },
  {
   "cell_type": "code",
   "execution_count": 6,
   "metadata": {},
   "outputs": [],
   "source": [
    "\"\"\"Include the information about the project and page that will be used.\"\"\"\n",
    "offset_number = 1\n",
    "project_name = 'WikiProject_Women'"
   ]
  },
  {
   "cell_type": "code",
   "execution_count": 7,
   "metadata": {},
   "outputs": [
    {
     "name": "stdout",
     "output_type": "stream",
     "text": [
      "https://tools.wmflabs.org/enwp10/cgi-bin/list2.fcgi?run=yes&projecta=WikiProject_Women&limit=10&offset=1\n"
     ]
    }
   ],
   "source": [
    "\"\"\"Create the url that will be used in the function page_scrapper.\"\"\"\n",
    "\n",
    "base = 'https://tools.wmflabs.org/enwp10/cgi-bin/list2.fcgi?run=yes'\n",
    "project = f'&projecta={project_name}'\n",
    "limit = '&limit=10'\n",
    "offset = f'&offset={offset_number}'\n",
    "\n",
    "url = base + project + limit + offset\n",
    "print(url)\n"
   ]
  },
  {
   "cell_type": "markdown",
   "metadata": {},
   "source": [
    "##### Here an example of the function running"
   ]
  },
  {
   "cell_type": "code",
   "execution_count": 8,
   "metadata": {},
   "outputs": [],
   "source": [
    "df = page_scrapper(url)"
   ]
  },
  {
   "cell_type": "code",
   "execution_count": 9,
   "metadata": {},
   "outputs": [
    {
     "data": {
      "text/html": [
       "<div>\n",
       "<style scoped>\n",
       "    .dataframe tbody tr th:only-of-type {\n",
       "        vertical-align: middle;\n",
       "    }\n",
       "\n",
       "    .dataframe tbody tr th {\n",
       "        vertical-align: top;\n",
       "    }\n",
       "\n",
       "    .dataframe thead th {\n",
       "        text-align: right;\n",
       "    }\n",
       "</style>\n",
       "<table border=\"1\" class=\"dataframe\">\n",
       "  <thead>\n",
       "    <tr style=\"text-align: right;\">\n",
       "      <th></th>\n",
       "      <th>name:</th>\n",
       "      <th>link:</th>\n",
       "      <th>summary</th>\n",
       "      <th>photo</th>\n",
       "      <th>tags</th>\n",
       "    </tr>\n",
       "  </thead>\n",
       "  <tbody>\n",
       "    <tr>\n",
       "      <th>0</th>\n",
       "      <td>Aaliyah</td>\n",
       "      <td>https://en.wikipedia.org/w/index.php?title=Aal...</td>\n",
       "      <td>Aaliyah Dana Haughton (; January 16, 1979 – Au...</td>\n",
       "      <td>https://upload.wikimedia.org/wikipedia/commons...</td>\n",
       "      <td>[aaliyah dana haughton, january, august, ameri...</td>\n",
       "    </tr>\n",
       "    <tr>\n",
       "      <th>1</th>\n",
       "      <td>Angelina Jolie</td>\n",
       "      <td>https://en.wikipedia.org/w/index.php?title=Ang...</td>\n",
       "      <td>Angelina Jolie ( joh-LEE; born Angelina Jolie ...</td>\n",
       "      <td>https://upload.wikimedia.org/wikipedia/commons...</td>\n",
       "      <td>[angelina jolie, angelina jolie voight, june, ...</td>\n",
       "    </tr>\n",
       "    <tr>\n",
       "      <th>2</th>\n",
       "      <td>Anna May Wong</td>\n",
       "      <td>https://en.wikipedia.org/w/index.php?title=Ann...</td>\n",
       "      <td>Anna May Wong (born Wong Liu Tsong, January 3,...</td>\n",
       "      <td>https://upload.wikimedia.org/wikipedia/commons...</td>\n",
       "      <td>[anna may wong, wong liu tsong, january, febru...</td>\n",
       "    </tr>\n",
       "    <tr>\n",
       "      <th>3</th>\n",
       "      <td>Ayumi Hamasaki</td>\n",
       "      <td>https://en.wikipedia.org/w/index.php?title=Ayu...</td>\n",
       "      <td>Ayumi Hamasaki (浜崎 あゆみ, Hamasaki Ayumi, born O...</td>\n",
       "      <td>https://upload.wikimedia.org/wikipedia/commons...</td>\n",
       "      <td>[ayumi hamasaki, 浜崎 あゆみ, hamasaki ayumi, octob...</td>\n",
       "    </tr>\n",
       "    <tr>\n",
       "      <th>4</th>\n",
       "      <td>Cleopatra</td>\n",
       "      <td>https://en.wikipedia.org/w/index.php?title=Cle...</td>\n",
       "      <td>Cleopatra VII Philopator (Ancient Greek: Κλεοπ...</td>\n",
       "      <td>https://upload.wikimedia.org/wikipedia/commons...</td>\n",
       "      <td>[cleopatra vii philopator, κλεοπᾰ́τρᾱ φιλοπάτω...</td>\n",
       "    </tr>\n",
       "    <tr>\n",
       "      <th>5</th>\n",
       "      <td>3 of Hearts (album)</td>\n",
       "      <td>https://en.wikipedia.org/w/index.php?title=%33...</td>\n",
       "      <td>3 of Hearts is an eponymous debut studio album...</td>\n",
       "      <td>https://upload.wikimedia.org/wikipedia/commons...</td>\n",
       "      <td>[hearts, eponymous debut studio album, america...</td>\n",
       "    </tr>\n",
       "    <tr>\n",
       "      <th>6</th>\n",
       "      <td>Amy Adams</td>\n",
       "      <td>https://en.wikipedia.org/w/index.php?title=Amy...</td>\n",
       "      <td>Amy Lou Adams (born August 20, 1974) is an Ame...</td>\n",
       "      <td>https://upload.wikimedia.org/wikipedia/commons...</td>\n",
       "      <td>[amy lou adams, august, american actress, know...</td>\n",
       "    </tr>\n",
       "    <tr>\n",
       "      <th>7</th>\n",
       "      <td>Ann Bannon</td>\n",
       "      <td>https://en.wikipedia.org/w/index.php?title=Ann...</td>\n",
       "      <td>Ann Weldy (born September 15, 1932), better kn...</td>\n",
       "      <td>https://upload.wikimedia.org/wikipedia/commons...</td>\n",
       "      <td>[ann weldy, september, pen name, ann bannon, a...</td>\n",
       "    </tr>\n",
       "    <tr>\n",
       "      <th>8</th>\n",
       "      <td>Anne Hathaway</td>\n",
       "      <td>https://en.wikipedia.org/w/index.php?title=Ann...</td>\n",
       "      <td>Anne Jacqueline Hathaway (born November 12, 19...</td>\n",
       "      <td>https://upload.wikimedia.org/wikipedia/commons...</td>\n",
       "      <td>[anne jacqueline hathaway, november, american ...</td>\n",
       "    </tr>\n",
       "    <tr>\n",
       "      <th>9</th>\n",
       "      <td>Catherine Zeta-Jones</td>\n",
       "      <td>https://en.wikipedia.org/w/index.php?title=Cat...</td>\n",
       "      <td>Catherine Zeta-Jones  (; born 25 September 196...</td>\n",
       "      <td>https://upload.wikimedia.org/wikipedia/commons...</td>\n",
       "      <td>[catherine zeta-jones, september, welsh actres...</td>\n",
       "    </tr>\n",
       "  </tbody>\n",
       "</table>\n",
       "</div>"
      ],
      "text/plain": [
       "                  name:                                              link:  \\\n",
       "0               Aaliyah  https://en.wikipedia.org/w/index.php?title=Aal...   \n",
       "1        Angelina Jolie  https://en.wikipedia.org/w/index.php?title=Ang...   \n",
       "2         Anna May Wong  https://en.wikipedia.org/w/index.php?title=Ann...   \n",
       "3        Ayumi Hamasaki  https://en.wikipedia.org/w/index.php?title=Ayu...   \n",
       "4             Cleopatra  https://en.wikipedia.org/w/index.php?title=Cle...   \n",
       "5   3 of Hearts (album)  https://en.wikipedia.org/w/index.php?title=%33...   \n",
       "6             Amy Adams  https://en.wikipedia.org/w/index.php?title=Amy...   \n",
       "7            Ann Bannon  https://en.wikipedia.org/w/index.php?title=Ann...   \n",
       "8         Anne Hathaway  https://en.wikipedia.org/w/index.php?title=Ann...   \n",
       "9  Catherine Zeta-Jones  https://en.wikipedia.org/w/index.php?title=Cat...   \n",
       "\n",
       "                                             summary  \\\n",
       "0  Aaliyah Dana Haughton (; January 16, 1979 – Au...   \n",
       "1  Angelina Jolie ( joh-LEE; born Angelina Jolie ...   \n",
       "2  Anna May Wong (born Wong Liu Tsong, January 3,...   \n",
       "3  Ayumi Hamasaki (浜崎 あゆみ, Hamasaki Ayumi, born O...   \n",
       "4  Cleopatra VII Philopator (Ancient Greek: Κλεοπ...   \n",
       "5  3 of Hearts is an eponymous debut studio album...   \n",
       "6  Amy Lou Adams (born August 20, 1974) is an Ame...   \n",
       "7  Ann Weldy (born September 15, 1932), better kn...   \n",
       "8  Anne Jacqueline Hathaway (born November 12, 19...   \n",
       "9  Catherine Zeta-Jones  (; born 25 September 196...   \n",
       "\n",
       "                                               photo  \\\n",
       "0  https://upload.wikimedia.org/wikipedia/commons...   \n",
       "1  https://upload.wikimedia.org/wikipedia/commons...   \n",
       "2  https://upload.wikimedia.org/wikipedia/commons...   \n",
       "3  https://upload.wikimedia.org/wikipedia/commons...   \n",
       "4  https://upload.wikimedia.org/wikipedia/commons...   \n",
       "5  https://upload.wikimedia.org/wikipedia/commons...   \n",
       "6  https://upload.wikimedia.org/wikipedia/commons...   \n",
       "7  https://upload.wikimedia.org/wikipedia/commons...   \n",
       "8  https://upload.wikimedia.org/wikipedia/commons...   \n",
       "9  https://upload.wikimedia.org/wikipedia/commons...   \n",
       "\n",
       "                                                tags  \n",
       "0  [aaliyah dana haughton, january, august, ameri...  \n",
       "1  [angelina jolie, angelina jolie voight, june, ...  \n",
       "2  [anna may wong, wong liu tsong, january, febru...  \n",
       "3  [ayumi hamasaki, 浜崎 あゆみ, hamasaki ayumi, octob...  \n",
       "4  [cleopatra vii philopator, κλεοπᾰ́τρᾱ φιλοπάτω...  \n",
       "5  [hearts, eponymous debut studio album, america...  \n",
       "6  [amy lou adams, august, american actress, know...  \n",
       "7  [ann weldy, september, pen name, ann bannon, a...  \n",
       "8  [anne jacqueline hathaway, november, american ...  \n",
       "9  [catherine zeta-jones, september, welsh actres...  "
      ]
     },
     "execution_count": 9,
     "metadata": {},
     "output_type": "execute_result"
    }
   ],
   "source": [
    "df"
   ]
  },
  {
   "cell_type": "code",
   "execution_count": 10,
   "metadata": {},
   "outputs": [
    {
     "data": {
      "text/plain": [
       "'https://upload.wikimedia.org/wikipedia/commons/1/1d/2005_06_15_rice-jolie_600.jpg'"
      ]
     },
     "execution_count": 10,
     "metadata": {},
     "output_type": "execute_result"
    }
   ],
   "source": [
    "df.iloc[1,3]"
   ]
  },
  {
   "cell_type": "code",
   "execution_count": 11,
   "metadata": {},
   "outputs": [
    {
     "name": "stdout",
     "output_type": "stream",
     "text": [
      "<class 'pandas.core.frame.DataFrame'>\n",
      "RangeIndex: 10 entries, 0 to 9\n",
      "Data columns (total 5 columns):\n",
      "name:      10 non-null object\n",
      "link:      10 non-null object\n",
      "summary    10 non-null object\n",
      "photo      10 non-null object\n",
      "tags       10 non-null object\n",
      "dtypes: object(5)\n",
      "memory usage: 480.0+ bytes\n"
     ]
    }
   ],
   "source": [
    "df.info()"
   ]
  },
  {
   "cell_type": "code",
   "execution_count": 12,
   "metadata": {},
   "outputs": [],
   "source": [
    "import time"
   ]
  },
  {
   "cell_type": "code",
   "execution_count": 14,
   "metadata": {},
   "outputs": [],
   "source": [
    "start = time.time()"
   ]
  },
  {
   "cell_type": "code",
   "execution_count": 15,
   "metadata": {},
   "outputs": [],
   "source": [
    "end = time.time()"
   ]
  },
  {
   "cell_type": "code",
   "execution_count": 16,
   "metadata": {},
   "outputs": [
    {
     "data": {
      "text/plain": [
       "6.625591039657593"
      ]
     },
     "execution_count": 16,
     "metadata": {},
     "output_type": "execute_result"
    }
   ],
   "source": [
    "end - start"
   ]
  },
  {
   "cell_type": "code",
   "execution_count": null,
   "metadata": {},
   "outputs": [],
   "source": []
  }
 ],
 "metadata": {
  "kernelspec": {
   "display_name": "Python 3",
   "language": "python",
   "name": "python3"
  },
  "language_info": {
   "codemirror_mode": {
    "name": "ipython",
    "version": 3
   },
   "file_extension": ".py",
   "mimetype": "text/x-python",
   "name": "python",
   "nbconvert_exporter": "python",
   "pygments_lexer": "ipython3",
   "version": "3.7.1"
  }
 },
 "nbformat": 4,
 "nbformat_minor": 2
}
