{
 "cells": [
  {
   "cell_type": "code",
   "execution_count": 2,
   "metadata": {},
   "outputs": [],
   "source": [
    "from datetime import timedelta\n",
    "from bs4 import BeautifulSoup\n",
    "import requests\n",
    "import pandas as pd\n",
    "import wikipedia\n",
    "from textblob import TextBlob\n",
    "\n",
    "wikipedia.set_rate_limiting(True, min_wait=timedelta(milliseconds=100))"
   ]
  },
  {
   "cell_type": "markdown",
   "metadata": {},
   "source": [
    "Wikipedia documentation: https://wikipedia.readthedocs.io/en/latest/quickstart.html\n",
    "\n",
    "TextBlobo documentation: https://textblob.readthedocs.io/en/dev/\n",
    "\n",
    "The function receives the url an get the information and transform it in a dataframe with name link of the article as collumns\n",
    "\n",
    "The first lines are to transform the information in two different classes in the page in a unique list\n",
    "The last lines are to separate the information (name and link of article) in two lists, make a dictionary and transform in a pandas dataframe"
   ]
  },
  {
   "cell_type": "code",
   "execution_count": 3,
   "metadata": {},
   "outputs": [],
   "source": [
    "def page_scrapper(url):\n",
    "    \"\"\"Receive the wikipedia project url and returns a dataframe with name, link, summary, photo link and\n",
    "    tags from the summary's text.\"\"\"  \n",
    "    response = requests.get(url)\n",
    "    html_soup = BeautifulSoup(response.text, 'html.parser')\n",
    "    \"\"\"The table has two classes, so the list need to be sum.\"\"\"\n",
    "    name_containers_even = html_soup.find_all('tr', class_ = 'list-even')\n",
    "    name_containers_odd = html_soup.find_all('tr', class_ = 'list-odd')\n",
    "    name_containers = name_containers_even + name_containers_odd\n",
    "    \n",
    "    \"\"\"Grab name and link from the page's table.\"\"\"\n",
    "    name_list = []\n",
    "    link_list = []\n",
    "    summary_list=[]\n",
    "    tags_list=[]\n",
    "\n",
    "    for item in name_containers:\n",
    "        name = item.a.text\n",
    "        link = item.a['href']\n",
    "        \n",
    "        try:\n",
    "            page = wikipedia.WikipediaPage(name)\n",
    "        except wikipedia.exceptions.PageError:\n",
    "            continue\n",
    "            \n",
    "        name_list.append(name)\n",
    "        link_list.append(link)\n",
    "        summary_list.append(page.summary)\n",
    "            \n",
    "        \"\"\"Grab the tags of the wikipedia's article from the summary.\"\"\"\n",
    "        tags = TextBlob(page.summary).tags\n",
    "        tags = [row for row in tags if row[1] in ['NNP', 'NN']]\n",
    "        tags_list.append(tags)\n",
    "\n",
    "    return name_list, link_list, summary_list, tags_list"
   ]
  },
  {
   "cell_type": "code",
   "execution_count": 4,
   "metadata": {},
   "outputs": [],
   "source": [
    "project_list = ['WikiProject_Women', 'Women%27s_History', 'Women_writers', 'Women_scientists', 'Women_artists', 'Women%27s_sport']"
   ]
  },
  {
   "cell_type": "code",
   "execution_count": 5,
   "metadata": {},
   "outputs": [
    {
     "name": "stdout",
     "output_type": "stream",
     "text": [
      "https://tools.wmflabs.org/enwp10/cgi-bin/list2.fcgi?run=yes&projecta=WikiProject_Women&limit=10&offset=1\n"
     ]
    },
    {
     "ename": "NameError",
     "evalue": "name 'name_list' is not defined",
     "output_type": "error",
     "traceback": [
      "\u001b[0;31m---------------------------------------------------------------------------\u001b[0m",
      "\u001b[0;31mNameError\u001b[0m                                 Traceback (most recent call last)",
      "\u001b[0;32m<ipython-input-5-95aedba12908>\u001b[0m in \u001b[0;36m<module>\u001b[0;34m\u001b[0m\n\u001b[1;32m     18\u001b[0m \u001b[0;34m\u001b[0m\u001b[0m\n\u001b[1;32m     19\u001b[0m         \u001b[0moffset_number\u001b[0m \u001b[0;34m+=\u001b[0m \u001b[0mlimit_number\u001b[0m\u001b[0;34m\u001b[0m\u001b[0;34m\u001b[0m\u001b[0m\n\u001b[0;32m---> 20\u001b[0;31m         \u001b[0;32mif\u001b[0m \u001b[0mlen\u001b[0m\u001b[0;34m(\u001b[0m\u001b[0mname_list\u001b[0m\u001b[0;34m)\u001b[0m \u001b[0;34m==\u001b[0m \u001b[0;36m0\u001b[0m\u001b[0;34m:\u001b[0m\u001b[0;34m\u001b[0m\u001b[0;34m\u001b[0m\u001b[0m\n\u001b[0m\u001b[1;32m     21\u001b[0m             \u001b[0;32mbreak\u001b[0m\u001b[0;34m\u001b[0m\u001b[0;34m\u001b[0m\u001b[0m\n",
      "\u001b[0;31mNameError\u001b[0m: name 'name_list' is not defined"
     ]
    }
   ],
   "source": [
    "for project_name in project_list:\n",
    "\n",
    "    \"\"\"Include the information about the project and page that will be used.\"\"\"\n",
    "    offset_number = 1\n",
    "    limit_number = 1000\n",
    "\n",
    "    \"\"\"Create the url that will be used in the function page_scrapper.\"\"\"\n",
    "    while True:\n",
    "        base = 'https://tools.wmflabs.org/enwp10/cgi-bin/list2.fcgi?run=yes'\n",
    "        project = f'&projecta={project_name}'\n",
    "        limit = f'&limit={limit_number}'\n",
    "        offset = f'&offset={offset_number}'\n",
    "\n",
    "        url = base + project + limit + offset\n",
    "        print(url)\n",
    "        \n",
    "        #name_list, link_list, summary_list, tags_list = page_scrapper(url)\n",
    "\n",
    "        offset_number += limit_number\n",
    "        if len(name_list) == 0:\n",
    "            break"
   ]
  }
 ],
 "metadata": {
  "kernelspec": {
   "display_name": "Python 3",
   "language": "python",
   "name": "python3"
  }
 },
 "nbformat": 4,
 "nbformat_minor": 2
}
