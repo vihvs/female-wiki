{
 "cells": [
  {
   "cell_type": "code",
   "execution_count": 286,
   "metadata": {},
   "outputs": [],
   "source": [
    "from bs4 import BeautifulSoup\n",
    "import requests\n",
    "import pandas as pd\n",
    "import wikipedia\n",
    "from textblob import TextBlob"
   ]
  },
  {
   "cell_type": "markdown",
   "metadata": {},
   "source": [
    "Wikipedia documentation: https://wikipedia.readthedocs.io/en/latest/quickstart.html\n",
    "\n",
    "TextBlobo documentation: https://textblob.readthedocs.io/en/dev/\n",
    "\n",
    "The function receives the url an get the information and transform it in a dataframe with name link of the article as collumns\n",
    "\n",
    "The first lines are to transform the information in two different classes in the page in a unique list\n",
    "The last lines are to separate the information (name and link of article) in two lists, make a dictionary and transform in a pandas dataframe"
   ]
  },
  {
   "cell_type": "code",
   "execution_count": 287,
   "metadata": {},
   "outputs": [],
   "source": [
    "def page_scrapper(url):\n",
    "    \"\"\"Receive the wikipedia project url and returns a dataframe with name, link, summary, photo link and\n",
    "    tags from the summary's text.\"\"\"  \n",
    "    response = requests.get(url)\n",
    "    html_soup = BeautifulSoup(response.text, 'html.parser')\n",
    "    \"\"\"The table has two classes, so the list need to be sum.\"\"\"\n",
    "    name_containers_even = html_soup.find_all('tr', class_ = 'list-even')\n",
    "    name_containers_odd = html_soup.find_all('tr', class_ = 'list-odd')\n",
    "    name_containers = name_containers_even + name_containers_odd\n",
    "    \n",
    "    \"\"\"Grab name and link from the page's table.\"\"\"\n",
    "    name_list = []\n",
    "    link_list = []\n",
    "    summary_list=[]\n",
    "    #photo_list=[]\n",
    "    tags_list=[]\n",
    "\n",
    "    for item in name_containers:\n",
    "        name = item.a.text\n",
    "        name_list.append(name)\n",
    "    \n",
    "        link = item.a['href']\n",
    "        link_list.append(link)\n",
    "        \n",
    "        try:\n",
    "            page = wikipedia.page(name)\n",
    "        except wikipedia.exceptions.PageError as e:\n",
    "            pass\n",
    "        except wikipedia.exceptions.DisambiguationError as e:\n",
    "            pass\n",
    "        \n",
    "        \"\"\"Grab the summary of the wikipedia's article from the name.\"\"\"\n",
    "        try:\n",
    "            summary = wikipedia.summary(name)\n",
    "            summary_list.append(summary)\n",
    "        except wikipedia.exceptions.DisambiguationError as e:\n",
    "            summary = ''\n",
    "            summary_list.append(summary)\n",
    "        \n",
    "        \n",
    "        \"\"\"Grab the photo link of the wikipedia's article from the name.\"\"\"            \n",
    "        #photo = wikipedia.page(name).images[0]\n",
    "        #photo_list.append(photo)\n",
    "            \n",
    "        \"\"\"Grab the tags of the wikipedia's article from the summary.\"\"\"\n",
    "        tags = TextBlob(summary).tags\n",
    "        tags_list.append(tags)\n",
    "                \n",
    "    \"\"\"Grab the lists and tranform in a dataframe.\"\"\"\n",
    "    #dataframe = pd.DataFrame({'name:': name_list,\n",
    "                  #'link:': link_list, 'summary': summary_list, 'photo': photo_list, 'tags': tags_list})\n",
    "\n",
    "    return name_list, link_list, summary_list, tags_list"
   ]
  },
  {
   "cell_type": "markdown",
   "metadata": {},
   "source": [
    "##### Create the URL"
   ]
  },
  {
   "cell_type": "code",
   "execution_count": 288,
   "metadata": {},
   "outputs": [],
   "source": [
    "\"\"\"Include the information about the project and page that will be used.\"\"\"\n",
    "offset_number = 1\n",
    "project_name = 'WikiProject_Women'"
   ]
  },
  {
   "cell_type": "code",
   "execution_count": 295,
   "metadata": {},
   "outputs": [
    {
     "name": "stdout",
     "output_type": "stream",
     "text": [
      "https://tools.wmflabs.org/enwp10/cgi-bin/list2.fcgi?run=yes&projecta=WikiProject_Women&limit=10&offset=1\n"
     ]
    }
   ],
   "source": [
    "\"\"\"Create the url that will be used in the function page_scrapper.\"\"\"\n",
    "\n",
    "base = 'https://tools.wmflabs.org/enwp10/cgi-bin/list2.fcgi?run=yes'\n",
    "project = f'&projecta={project_name}'\n",
    "limit = '&limit=10'\n",
    "offset = f'&offset={offset_number}'\n",
    "\n",
    "url = base + project + limit + offset\n",
    "print(url)"
   ]
  },
  {
   "cell_type": "markdown",
   "metadata": {},
   "source": [
    "##### Here an example of the function running"
   ]
  },
  {
   "cell_type": "code",
   "execution_count": 297,
   "metadata": {},
   "outputs": [],
   "source": [
    "test = page_scrapper(url)"
   ]
  },
  {
   "cell_type": "code",
   "execution_count": 303,
   "metadata": {},
   "outputs": [
    {
     "ename": "IndexError",
     "evalue": "tuple index out of range",
     "output_type": "error",
     "traceback": [
      "\u001b[0;31m---------------------------------------------------------------------------\u001b[0m",
      "\u001b[0;31mIndexError\u001b[0m                                Traceback (most recent call last)",
      "\u001b[0;32m<ipython-input-303-ef42905b1c5f>\u001b[0m in \u001b[0;36m<module>\u001b[0;34m\u001b[0m\n\u001b[0;32m----> 1\u001b[0;31m \u001b[0mlen\u001b[0m\u001b[0;34m(\u001b[0m\u001b[0mtest\u001b[0m\u001b[0;34m[\u001b[0m\u001b[0;36m4\u001b[0m\u001b[0;34m]\u001b[0m\u001b[0;34m)\u001b[0m\u001b[0;34m\u001b[0m\u001b[0;34m\u001b[0m\u001b[0m\n\u001b[0m",
      "\u001b[0;31mIndexError\u001b[0m: tuple index out of range"
     ]
    }
   ],
   "source": []
  },
  {
   "cell_type": "code",
   "execution_count": null,
   "metadata": {},
   "outputs": [],
   "source": []
  }
 ],
 "metadata": {
  "kernelspec": {
   "display_name": "Python 3",
   "language": "python",
   "name": "python3"
  },
  "language_info": {
   "codemirror_mode": {
    "name": "ipython",
    "version": 3
   },
   "file_extension": ".py",
   "mimetype": "text/x-python",
   "name": "python",
   "nbconvert_exporter": "python",
   "pygments_lexer": "ipython3",
   "version": "3.7.1"
  }
 },
 "nbformat": 4,
 "nbformat_minor": 2
}
